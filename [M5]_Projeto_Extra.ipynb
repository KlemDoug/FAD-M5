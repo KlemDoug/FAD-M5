{
  "nbformat": 4,
  "nbformat_minor": 0,
  "metadata": {
    "colab": {
      "provenance": [],
      "toc_visible": true,
      "authorship_tag": "ABX9TyN9bYD8EkIgapoYKdHb28Zd",
      "include_colab_link": true
    },
    "kernelspec": {
      "name": "python3",
      "display_name": "Python 3"
    },
    "language_info": {
      "name": "python"
    }
  },
  "cells": [
    {
      "cell_type": "markdown",
      "metadata": {
        "id": "view-in-github",
        "colab_type": "text"
      },
      "source": [
        "<a href=\"https://colab.research.google.com/github/KlemDoug/FAD-M5/blob/main/%5BM5%5D_Projeto_Extra.ipynb\" target=\"_parent\"><img src=\"https://colab.research.google.com/assets/colab-badge.svg\" alt=\"Open In Colab\"/></a>"
      ]
    },
    {
      "cell_type": "markdown",
      "source": [
        "# Relatório Mundial da Felicidade\n",
        "---\n",
        "- SENAC/RESILIA - Formação em Análise de Dados (FAD) - Projeto Individual Extra - Módulo 5\n",
        "- !/usr/bin/env python3 versão 3.11 (64-bit) - (-*- coding:utf-8-*-)\n",
        "- Criado por: Douglas Klem Portugal do Amaral *em* 13/05/2023\n",
        "---"
      ],
      "metadata": {
        "id": "Z7TC8bY3X_fc"
      }
    },
    {
      "cell_type": "markdown",
      "source": [
        "# Contexto\n",
        "\n",
        "O Relatório Mundial da Felicidade é uma pesquisa histórica sobre o estado da\n",
        "felicidade global. Especialistas líderes em todas as áreas – economia, psicologia,\n",
        "análise de pesquisas, estatísticas nacionais, saúde, políticas públicas e muito mais\n",
        "– descrevem como as medidas de bem-estar podem ser usadas efetivamente para\n",
        "avaliar o progresso das nações.\n",
        "Você recebeu o Relatório Mundial da Felicidade do ano de 2020:\n",
        "<https://www.kaggle.com/datasets/mathurinache/world-happiness-report?select=\n",
        "2022.csv>.\n",
        "CONTEXTO\n",
        "Essa taxa de facilidade foi calculada de acordo com várias características dos países,\n",
        "tais como: GDP per capita (PIB per capita), Healthy Life Expectancy (Expectativa de\n",
        "Vida Saudável), Social support (Suporte social), Freedom to make life choices\n",
        "(Liberdade para fazer escolhas de vida), Generosity (Generosidade), Corruption\n",
        "Perception (Percepção de corrupção), etc."
      ],
      "metadata": {
        "id": "1lRRP-2xo4aT"
      }
    },
    {
      "cell_type": "markdown",
      "source": [
        "Seu trabalho é desenvolver uma análise do dataset para realizar uma apresentação em\n",
        "uma conferência, explorando os pontos que fazem mais sentido para a construção da\n",
        "história que você escolher contar. Entretanto, um dos requisitos da conferência é que sua\n",
        "apresentação tenha diversos tipos de gráficos. Utilizando uma ferramenta de visualização\n",
        "de dados de sua escolha, realize as seguintes visualizações com o dataset:\n",
        "■ Um gráfico de barras simples;\n",
        "■ Um gráfico de barras agrupados;\n",
        "■ Um gráfico de barras empilhadas;\n",
        "■ Um mapa coroplético;\n",
        "■ Um mapa com bolhas;\n",
        "■ Um gráfico de linhas;\n",
        "■ Um gráfico de dispersão.\n",
        "Caso julgue necessário, realize um pré-processamento em notebook ou na própria\n",
        "ferramenta de visualização de dados"
      ],
      "metadata": {
        "id": "Ez04_j6AOwoQ"
      }
    },
    {
      "cell_type": "markdown",
      "source": [
        "# Dados para o Relatório"
      ],
      "metadata": {
        "id": "oKJ7Af9lo-7m"
      }
    },
    {
      "cell_type": "markdown",
      "source": [
        "# Plano de Ação"
      ],
      "metadata": {
        "id": "bs-vwsrTpBoj"
      }
    },
    {
      "cell_type": "code",
      "source": [],
      "metadata": {
        "id": "12EsNVUSo33a"
      },
      "execution_count": null,
      "outputs": []
    },
    {
      "cell_type": "code",
      "execution_count": null,
      "metadata": {
        "id": "cJNUWD72Xj9d"
      },
      "outputs": [],
      "source": []
    }
  ]
}