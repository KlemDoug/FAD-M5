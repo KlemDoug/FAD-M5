{
  "nbformat": 4,
  "nbformat_minor": 0,
  "metadata": {
    "colab": {
      "provenance": [],
      "authorship_tag": "ABX9TyNAIdQdAOBYZYMQ4415HLYP",
      "include_colab_link": true
    },
    "kernelspec": {
      "name": "python3",
      "display_name": "Python 3"
    },
    "language_info": {
      "name": "python"
    }
  },
  "cells": [
    {
      "cell_type": "markdown",
      "metadata": {
        "id": "view-in-github",
        "colab_type": "text"
      },
      "source": [
        "<a href=\"https://colab.research.google.com/github/KlemDoug/FAD-M5/blob/main/%5BM5%5D_Projeto_Extra.ipynb\" target=\"_parent\"><img src=\"https://colab.research.google.com/assets/colab-badge.svg\" alt=\"Open In Colab\"/></a>"
      ]
    },
    {
      "cell_type": "markdown",
      "source": [
        "# Relatório Mundial da Felicidade\n",
        "---\n",
        "- SENAC/RESILIA - Formação em Análise de Dados (FAD) - Projeto Individual Extra - Módulo 5\n",
        "- !/usr/bin/env python3 versão 3.11 (64-bit) - (-*- coding:utf-8-*-)\n",
        "- Criado por: Douglas Klem Portugal do Amaral *em* 13/05/2023\n",
        "---"
      ],
      "metadata": {
        "id": "Z7TC8bY3X_fc"
      }
    },
    {
      "cell_type": "markdown",
      "source": [
        "# Contexto\n",
        "\n",
        "O Relatório Mundial da Felicidade é uma pesquisa histórica sobre o estado da felicidade global. Especialistas líderes em todas as áreas – economia, psicologia, análise de pesquisas, estatísticas nacionais, saúde, políticas públicas e muito mais – descrevem como as medidas de bem-estar podem ser usadas efetivamente para avaliar o progresso das nações. Você recebeu o [Relatório Mundial da Felicidade dos anos de 2015 a 2022](https://www.kaggle.com/datasets/mathurinache/world-happiness-report?select=2022.csv).\n",
        "\n",
        "Os cálculos foram feitos de acordo com várias características dos países, tais como: GDP per capita (PIB per capita), Healthy Life Expectancy (Expectativa de Vida Saudável), Social support (Suporte social), Freedom to make life choices (Liberdade para fazer escolhas de vida), Generosity (Generosidade), Corruption Perception (Percepção de corrupção) etc."
      ],
      "metadata": {
        "id": "1lRRP-2xo4aT"
      }
    },
    {
      "cell_type": "markdown",
      "source": [
        "# Dados para o Relatório"
      ],
      "metadata": {
        "id": "oKJ7Af9lo-7m"
      }
    },
    {
      "cell_type": "code",
      "source": [
        "#importando as bibliotecas que necessitamos aqui\n",
        "import pandas as pd"
      ],
      "metadata": {
        "id": "12EsNVUSo33a"
      },
      "execution_count": 1,
      "outputs": []
    },
    {
      "cell_type": "code",
      "source": [
        "# O arquivo correspondente foi disponibilizado internamente e está contido no repositório desse projeto.\n",
        "# Estão disponíveis as versões original (em inglês) e traduzida (carregada para esse relatório).\n",
        "# Se você utiliza o Google Colab, LEMBRE-SE de inserir esse dataset pelo diretório raiz da maneira correta previamente.\n",
        "# Em caso de edições posteriores, o arquivo poderá se requisitado novamente pelo colab! Portanto, atenção a esse detalhe.\n",
        "# No caso de você utilizar o ambiente Jupyter, tenha certeza de que ajustou o diretório para o caminho onde o dataset está salvo."
      ],
      "metadata": {
        "id": "fxqBDla2GNjO"
      },
      "execution_count": 2,
      "outputs": []
    },
    {
      "cell_type": "code",
      "source": [
        "# Lendo o dataset de 2022 como exemplo (mais recente).\n",
        "# Os gráficos gerados utilizarão a série temporal mencionada anteriormente (2015-2022).\n",
        "dataset = pd.read_csv('/content/2022.csv')\n",
        "dataset.head()"
      ],
      "metadata": {
        "colab": {
          "base_uri": "https://localhost:8080/",
          "height": 337
        },
        "id": "JFyAhcjnEXOO",
        "outputId": "77778d00-6e16-406f-cd80-26cfa3f3f61d"
      },
      "execution_count": 5,
      "outputs": [
        {
          "output_type": "execute_result",
          "data": {
            "text/plain": [
              "   RANK      Country Happiness score Whisker-high Whisker-low  \\\n",
              "0     1      Finland           7,821        7,886       7,756   \n",
              "1     2      Denmark           7,636        7,710       7,563   \n",
              "2     3      Iceland           7,557        7,651       7,464   \n",
              "3     4  Switzerland           7,512        7,586       7,437   \n",
              "4     5  Netherlands           7,415        7,471       7,359   \n",
              "\n",
              "  Dystopia (1.83) + residual Explained by: GDP per capita  \\\n",
              "0                      2,518                        1,892   \n",
              "1                      2,226                        1,953   \n",
              "2                      2,320                        1,936   \n",
              "3                      2,153                        2,026   \n",
              "4                      2,137                        1,945   \n",
              "\n",
              "  Explained by: Social support Explained by: Healthy life expectancy  \\\n",
              "0                        1,258                                 0,775   \n",
              "1                        1,243                                 0,777   \n",
              "2                        1,320                                 0,803   \n",
              "3                        1,226                                 0,822   \n",
              "4                        1,206                                 0,787   \n",
              "\n",
              "  Explained by: Freedom to make life choices Explained by: Generosity  \\\n",
              "0                                      0,736                    0,109   \n",
              "1                                      0,719                    0,188   \n",
              "2                                      0,718                    0,270   \n",
              "3                                      0,677                    0,147   \n",
              "4                                      0,651                    0,271   \n",
              "\n",
              "  Explained by: Perceptions of corruption  \n",
              "0                                   0,534  \n",
              "1                                   0,532  \n",
              "2                                   0,191  \n",
              "3                                   0,461  \n",
              "4                                   0,419  "
            ],
            "text/html": [
              "\n",
              "  <div id=\"df-adf74ea0-dd00-4bb8-bfc5-8c0dc2e96f0d\">\n",
              "    <div class=\"colab-df-container\">\n",
              "      <div>\n",
              "<style scoped>\n",
              "    .dataframe tbody tr th:only-of-type {\n",
              "        vertical-align: middle;\n",
              "    }\n",
              "\n",
              "    .dataframe tbody tr th {\n",
              "        vertical-align: top;\n",
              "    }\n",
              "\n",
              "    .dataframe thead th {\n",
              "        text-align: right;\n",
              "    }\n",
              "</style>\n",
              "<table border=\"1\" class=\"dataframe\">\n",
              "  <thead>\n",
              "    <tr style=\"text-align: right;\">\n",
              "      <th></th>\n",
              "      <th>RANK</th>\n",
              "      <th>Country</th>\n",
              "      <th>Happiness score</th>\n",
              "      <th>Whisker-high</th>\n",
              "      <th>Whisker-low</th>\n",
              "      <th>Dystopia (1.83) + residual</th>\n",
              "      <th>Explained by: GDP per capita</th>\n",
              "      <th>Explained by: Social support</th>\n",
              "      <th>Explained by: Healthy life expectancy</th>\n",
              "      <th>Explained by: Freedom to make life choices</th>\n",
              "      <th>Explained by: Generosity</th>\n",
              "      <th>Explained by: Perceptions of corruption</th>\n",
              "    </tr>\n",
              "  </thead>\n",
              "  <tbody>\n",
              "    <tr>\n",
              "      <th>0</th>\n",
              "      <td>1</td>\n",
              "      <td>Finland</td>\n",
              "      <td>7,821</td>\n",
              "      <td>7,886</td>\n",
              "      <td>7,756</td>\n",
              "      <td>2,518</td>\n",
              "      <td>1,892</td>\n",
              "      <td>1,258</td>\n",
              "      <td>0,775</td>\n",
              "      <td>0,736</td>\n",
              "      <td>0,109</td>\n",
              "      <td>0,534</td>\n",
              "    </tr>\n",
              "    <tr>\n",
              "      <th>1</th>\n",
              "      <td>2</td>\n",
              "      <td>Denmark</td>\n",
              "      <td>7,636</td>\n",
              "      <td>7,710</td>\n",
              "      <td>7,563</td>\n",
              "      <td>2,226</td>\n",
              "      <td>1,953</td>\n",
              "      <td>1,243</td>\n",
              "      <td>0,777</td>\n",
              "      <td>0,719</td>\n",
              "      <td>0,188</td>\n",
              "      <td>0,532</td>\n",
              "    </tr>\n",
              "    <tr>\n",
              "      <th>2</th>\n",
              "      <td>3</td>\n",
              "      <td>Iceland</td>\n",
              "      <td>7,557</td>\n",
              "      <td>7,651</td>\n",
              "      <td>7,464</td>\n",
              "      <td>2,320</td>\n",
              "      <td>1,936</td>\n",
              "      <td>1,320</td>\n",
              "      <td>0,803</td>\n",
              "      <td>0,718</td>\n",
              "      <td>0,270</td>\n",
              "      <td>0,191</td>\n",
              "    </tr>\n",
              "    <tr>\n",
              "      <th>3</th>\n",
              "      <td>4</td>\n",
              "      <td>Switzerland</td>\n",
              "      <td>7,512</td>\n",
              "      <td>7,586</td>\n",
              "      <td>7,437</td>\n",
              "      <td>2,153</td>\n",
              "      <td>2,026</td>\n",
              "      <td>1,226</td>\n",
              "      <td>0,822</td>\n",
              "      <td>0,677</td>\n",
              "      <td>0,147</td>\n",
              "      <td>0,461</td>\n",
              "    </tr>\n",
              "    <tr>\n",
              "      <th>4</th>\n",
              "      <td>5</td>\n",
              "      <td>Netherlands</td>\n",
              "      <td>7,415</td>\n",
              "      <td>7,471</td>\n",
              "      <td>7,359</td>\n",
              "      <td>2,137</td>\n",
              "      <td>1,945</td>\n",
              "      <td>1,206</td>\n",
              "      <td>0,787</td>\n",
              "      <td>0,651</td>\n",
              "      <td>0,271</td>\n",
              "      <td>0,419</td>\n",
              "    </tr>\n",
              "  </tbody>\n",
              "</table>\n",
              "</div>\n",
              "      <button class=\"colab-df-convert\" onclick=\"convertToInteractive('df-adf74ea0-dd00-4bb8-bfc5-8c0dc2e96f0d')\"\n",
              "              title=\"Convert this dataframe to an interactive table.\"\n",
              "              style=\"display:none;\">\n",
              "        \n",
              "  <svg xmlns=\"http://www.w3.org/2000/svg\" height=\"24px\"viewBox=\"0 0 24 24\"\n",
              "       width=\"24px\">\n",
              "    <path d=\"M0 0h24v24H0V0z\" fill=\"none\"/>\n",
              "    <path d=\"M18.56 5.44l.94 2.06.94-2.06 2.06-.94-2.06-.94-.94-2.06-.94 2.06-2.06.94zm-11 1L8.5 8.5l.94-2.06 2.06-.94-2.06-.94L8.5 2.5l-.94 2.06-2.06.94zm10 10l.94 2.06.94-2.06 2.06-.94-2.06-.94-.94-2.06-.94 2.06-2.06.94z\"/><path d=\"M17.41 7.96l-1.37-1.37c-.4-.4-.92-.59-1.43-.59-.52 0-1.04.2-1.43.59L10.3 9.45l-7.72 7.72c-.78.78-.78 2.05 0 2.83L4 21.41c.39.39.9.59 1.41.59.51 0 1.02-.2 1.41-.59l7.78-7.78 2.81-2.81c.8-.78.8-2.07 0-2.86zM5.41 20L4 18.59l7.72-7.72 1.47 1.35L5.41 20z\"/>\n",
              "  </svg>\n",
              "      </button>\n",
              "      \n",
              "  <style>\n",
              "    .colab-df-container {\n",
              "      display:flex;\n",
              "      flex-wrap:wrap;\n",
              "      gap: 12px;\n",
              "    }\n",
              "\n",
              "    .colab-df-convert {\n",
              "      background-color: #E8F0FE;\n",
              "      border: none;\n",
              "      border-radius: 50%;\n",
              "      cursor: pointer;\n",
              "      display: none;\n",
              "      fill: #1967D2;\n",
              "      height: 32px;\n",
              "      padding: 0 0 0 0;\n",
              "      width: 32px;\n",
              "    }\n",
              "\n",
              "    .colab-df-convert:hover {\n",
              "      background-color: #E2EBFA;\n",
              "      box-shadow: 0px 1px 2px rgba(60, 64, 67, 0.3), 0px 1px 3px 1px rgba(60, 64, 67, 0.15);\n",
              "      fill: #174EA6;\n",
              "    }\n",
              "\n",
              "    [theme=dark] .colab-df-convert {\n",
              "      background-color: #3B4455;\n",
              "      fill: #D2E3FC;\n",
              "    }\n",
              "\n",
              "    [theme=dark] .colab-df-convert:hover {\n",
              "      background-color: #434B5C;\n",
              "      box-shadow: 0px 1px 3px 1px rgba(0, 0, 0, 0.15);\n",
              "      filter: drop-shadow(0px 1px 2px rgba(0, 0, 0, 0.3));\n",
              "      fill: #FFFFFF;\n",
              "    }\n",
              "  </style>\n",
              "\n",
              "      <script>\n",
              "        const buttonEl =\n",
              "          document.querySelector('#df-adf74ea0-dd00-4bb8-bfc5-8c0dc2e96f0d button.colab-df-convert');\n",
              "        buttonEl.style.display =\n",
              "          google.colab.kernel.accessAllowed ? 'block' : 'none';\n",
              "\n",
              "        async function convertToInteractive(key) {\n",
              "          const element = document.querySelector('#df-adf74ea0-dd00-4bb8-bfc5-8c0dc2e96f0d');\n",
              "          const dataTable =\n",
              "            await google.colab.kernel.invokeFunction('convertToInteractive',\n",
              "                                                     [key], {});\n",
              "          if (!dataTable) return;\n",
              "\n",
              "          const docLinkHtml = 'Like what you see? Visit the ' +\n",
              "            '<a target=\"_blank\" href=https://colab.research.google.com/notebooks/data_table.ipynb>data table notebook</a>'\n",
              "            + ' to learn more about interactive tables.';\n",
              "          element.innerHTML = '';\n",
              "          dataTable['output_type'] = 'display_data';\n",
              "          await google.colab.output.renderOutput(dataTable, element);\n",
              "          const docLink = document.createElement('div');\n",
              "          docLink.innerHTML = docLinkHtml;\n",
              "          element.appendChild(docLink);\n",
              "        }\n",
              "      </script>\n",
              "    </div>\n",
              "  </div>\n",
              "  "
            ]
          },
          "metadata": {},
          "execution_count": 5
        }
      ]
    },
    {
      "cell_type": "markdown",
      "source": [
        "# Plano de Ação"
      ],
      "metadata": {
        "id": "bs-vwsrTpBoj"
      }
    },
    {
      "cell_type": "markdown",
      "source": [
        "Desenvolver uma análise do *dataset* para realizar uma apresentação em uma conferência, explorando os pontos que fazem mais sentido para a construção do *storytelling*. Entretanto, um dos requisitos da conferência é que na apresentação sejam visualizados diversos tipos de gráficos, como os da lista que segue:\n",
        "\n",
        "* Barras simples;\n",
        "* Barras agrupadas;\n",
        "* Barras empilhadas;\n",
        "* Mapa coroplético;\n",
        "* Mapa com bolhas;\n",
        "* Linhas;\n",
        "* Dispersão.\n"
      ],
      "metadata": {
        "id": "Ez04_j6AOwoQ"
      }
    },
    {
      "cell_type": "markdown",
      "source": [
        "## Análise Exploratória"
      ],
      "metadata": {
        "id": "zt6-hX92FGEC"
      }
    },
    {
      "cell_type": "markdown",
      "source": [
        "texto"
      ],
      "metadata": {
        "id": "3KpzzzCcFhe5"
      }
    },
    {
      "cell_type": "markdown",
      "source": [
        "##*Storytelling*"
      ],
      "metadata": {
        "id": "x_UCiJTNFab7"
      }
    },
    {
      "cell_type": "markdown",
      "source": [
        "texto"
      ],
      "metadata": {
        "id": "iOEc-59hFi1A"
      }
    }
  ]
}